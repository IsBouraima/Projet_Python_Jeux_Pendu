{
 "cells": [
  {
   "cell_type": "markdown",
   "metadata": {},
   "source": [
    " ## Présentation rapide\n",
    "  Ce projet est un **quiz de culture générale**. Dès que l'utilisateur commence, il doit **absolument lire les règles du jeu** qui lui explique le fonctionnement du quiz. Ensuite, il peut choisir de retourner au menu principal ou de partir. \n",
    "    S'il choisit de jouer, il a le choix entre choisir un quiz de thème spécifique(littérature, Economie politique, Calcul) ou le quiz multithème. \n",
    "\n",
    "   Dès que son choix est fait, il doit entrer son nom et le quiz peut commencer. Pour chaque catégorie, il y a 10 questions à deviner.\n",
    " Comme indiqué dans les règles du jeu, pour chaque bonne réponse, il gagne un point et pour chaque mauvaise réponse, il perd demi-point et la bonne réponse est affiché. Son score est affiché à la fin du jeu. S'il a un score inférieur à zéro, le score afficher est zéro, mais s'il a un score supérieur à zéro son score est affiché avec un commentaire spécifique. Ensuite, il peut choisir de rejouer, de retourner au menu principal ou de partir. Chaque fois qu'il choisit les questions se présentent dans un ordre différent.\n",
    "    \n",
    "   Ce projet est constitué de trois fichiers. Le fichier **fonction.ipynb** contient toutes les fonctions du projet (notons que ces fonctions sont récursives.). Le fichier **dictionnaire.ipynb** contient quatre dictionnaires qui contiennent les questions du quiz par catégorie et les propositions de réponses et le ficher **Quiz.ipynb** est le fichier racine du projet.\n",
    "   \n",
    "   Pour la gestion des erreurs, j'ai eu à utiliser les notions de cours, ainsi que la documentation officielle de python (https://docs.python.org/fr/3/).\n",
    "   \n",
    "   Je vous présente donc mon petit quiz.\n",
    "   \n",
    "   Merci de cliquer ici sur Run / Restart Kernel and run all cells pour faire fonctionner ce \"logiciel\".\n",
    "    "
   ]
  },
  {
   "cell_type": "code",
   "execution_count": null,
   "metadata": {},
   "outputs": [],
   "source": []
  },
  {
   "cell_type": "code",
   "execution_count": 1,
   "metadata": {},
   "outputs": [],
   "source": [
    "nos_emails = ['isbath.bouraima-liadi@etu.u-pec.fr']"
   ]
  },
  {
   "cell_type": "code",
   "execution_count": 2,
   "metadata": {},
   "outputs": [
    {
     "name": "stdout",
     "output_type": "stream",
     "text": [
      "importing Jupyter notebook from fonctions.ipynb\n",
      "importing Jupyter notebook from dictionnaire.ipynb\n"
     ]
    }
   ],
   "source": [
    "import import_ipynb\n",
    "from fonctions import menu"
   ]
  },
  {
   "cell_type": "code",
   "execution_count": 3,
   "metadata": {},
   "outputs": [
    {
     "name": "stdout",
     "output_type": "stream",
     "text": [
      " \n",
      "*********************QUIZ********************\n",
      "\n",
      "\n",
      "*********************************************\n",
      "ATTENTION!!!! LISEZ ATTENTIVEMENT LES REGLES AVANT DE COMMENCER A JOUER\n",
      "\n",
      "\n",
      "********Menu Principal***********\n",
      "  1- Choisir un thème\n",
      "  2- Quiz multi-thèmes\n",
      "  3- Règle du Quiz\n",
      "  4- Quittez\n",
      "\n"
     ]
    },
    {
     "name": "stdin",
     "output_type": "stream",
     "text": [
      "Choisissez une option SVP\n",
      " 1\n",
      "Entrez votre nom svp\n",
      " EE\n"
     ]
    },
    {
     "name": "stdout",
     "output_type": "stream",
     "text": [
      "\n",
      "Bonjour EE\n",
      "Bienvenue dans le Quiz de Culture Générale\n",
      "\n",
      "\n",
      "******LISTE DES THEMES*****\n",
      "  1- Littérature\n",
      "  2- Economie et Politique\n",
      "  3- Calcul Pratique\n",
      "  4- Quittez\n",
      "  0- Menue Principal\n"
     ]
    },
    {
     "name": "stdin",
     "output_type": "stream",
     "text": [
      "\n",
      "Choisissez une option\n",
      " 1\n"
     ]
    },
    {
     "name": "stdout",
     "output_type": "stream",
     "text": [
      "\n",
      "********QUIZ LITTERATURE********\n",
      " Nous allons tout de suite tester vos connaissances en littérature EE\n",
      "\n",
      "~~~~~~~~~~~~~~~~~~~~~~~~~~~~~~\n",
      "La collection du Livre de Poche date de\n",
      "\n",
      "a: 1948\n",
      "b: 1953\n",
      "c: 1960\n"
     ]
    },
    {
     "name": "stdin",
     "output_type": "stream",
     "text": [
      "\n",
      "Entrez votre réponse: \n",
      " B\n"
     ]
    },
    {
     "name": "stdout",
     "output_type": "stream",
     "text": [
      "Bravo tu as + 1 points\n",
      "\n",
      "~~~~~~~~~~~~~~~~~~~~~~~~~~~~~~\n",
      "Lequel de ces écrivains n’est pas américain ?\n",
      "\n",
      "a: James Joyce\n",
      "b: John Steinbeck\n",
      "c: William Faulkner\n",
      "d: Ernest Hemingway\n"
     ]
    },
    {
     "name": "stdin",
     "output_type": "stream",
     "text": [
      "\n",
      "Entrez votre réponse: \n",
      " A\n"
     ]
    },
    {
     "name": "stdout",
     "output_type": "stream",
     "text": [
      "Bravo tu as + 1 points\n",
      "\n",
      "~~~~~~~~~~~~~~~~~~~~~~~~~~~~~~\n",
      "À quels auteurs se rattachent les héros suivants ? 1) Hercule Poirot. A) Gaston Leroux. 2) Nestor Burma. B) Léo Malet. 3) Rouletabille. C) Maurice Leblanc. 4) Arsène Lupin. D) Agatha Christie\n",
      "\n",
      "a: 1D - 2B - 3A - 4C\n",
      "b: 1D - 2B - 3C - 4A\n",
      "c: 1A - 2D - 3C - 4B\n",
      "d: 1D - 2A - 3B - 4C\n"
     ]
    },
    {
     "name": "stdin",
     "output_type": "stream",
     "text": [
      "\n",
      "Entrez votre réponse: \n",
      " C\n"
     ]
    },
    {
     "name": "stdout",
     "output_type": "stream",
     "text": [
      "Loupé! Tu perd demi point\n",
      "\n",
      "C'était a la bonne réponse!\n",
      "\n",
      "~~~~~~~~~~~~~~~~~~~~~~~~~~~~~~\n",
      "Parmi les affirmations suivantes, laquelle est exacte ?\n",
      "\n",
      "a: Marcel Pagnol a écrit Les Lettres de mon moulin\n",
      "b: Alphonse Daudet a écrit Le Petit Prince\n",
      "c: Jules Renard a écrit La Jument verte\n",
      "d: Roman Rolland a écrit Jean-Christophe\n"
     ]
    },
    {
     "name": "stdin",
     "output_type": "stream",
     "text": [
      "\n",
      "Entrez votre réponse: \n",
      " A\n"
     ]
    },
    {
     "name": "stdout",
     "output_type": "stream",
     "text": [
      "Loupé! Tu perd demi point\n",
      "\n",
      "C'était d la bonne réponse!\n",
      "\n",
      "~~~~~~~~~~~~~~~~~~~~~~~~~~~~~~\n",
      "Georges Simenon est né :\n",
      "\n",
      "a: À Paris\n",
      "b: À Liège\n",
      "c: À Lausanne\n"
     ]
    },
    {
     "name": "stdin",
     "output_type": "stream",
     "text": [
      "\n",
      "Entrez votre réponse: \n",
      " A\n"
     ]
    },
    {
     "name": "stdout",
     "output_type": "stream",
     "text": [
      "Loupé! Tu perd demi point\n",
      "\n",
      "C'était b la bonne réponse!\n",
      "\n",
      "~~~~~~~~~~~~~~~~~~~~~~~~~~~~~~\n",
      "L’auteur de La Planète des Singes est\n",
      "\n",
      "a: Pierre Boulle\n",
      "b: Arthur C. Clark\n",
      "c: Stephen King\n"
     ]
    },
    {
     "name": "stdin",
     "output_type": "stream",
     "text": [
      "\n",
      "Entrez votre réponse: \n",
      " A\n"
     ]
    },
    {
     "name": "stdout",
     "output_type": "stream",
     "text": [
      "Bravo tu as + 1 points\n",
      "\n",
      "~~~~~~~~~~~~~~~~~~~~~~~~~~~~~~\n",
      "Qui est amoureuse de Rodrigue dans Le Cid et réclame pourtant son châtiment ?\n",
      "\n",
      "a: Chimène\n",
      "b: Léonor\n",
      "c: Arias\n",
      "d: Elvire\n"
     ]
    },
    {
     "name": "stdin",
     "output_type": "stream",
     "text": [
      "\n",
      "Entrez votre réponse: \n",
      " A\n"
     ]
    },
    {
     "name": "stdout",
     "output_type": "stream",
     "text": [
      "Bravo tu as + 1 points\n",
      "\n",
      "~~~~~~~~~~~~~~~~~~~~~~~~~~~~~~\n",
      "Qui est J. K. Rowling ?\n",
      "\n",
      "a: Le Premier ministre de l’Australie\n",
      "b: La créatrice de Harry Potter\n",
      "c: Une réalisatrice de films\n",
      "d: Une athlète américaine\n"
     ]
    },
    {
     "name": "stdin",
     "output_type": "stream",
     "text": [
      "\n",
      "Entrez votre réponse: \n",
      " B\n"
     ]
    },
    {
     "name": "stdout",
     "output_type": "stream",
     "text": [
      "Bravo tu as + 1 points\n",
      "\n",
      "~~~~~~~~~~~~~~~~~~~~~~~~~~~~~~\n",
      "Associez les amants célèbres suivants : 1) Roméo. A) Virginie. 2) Tristan. B) Juliette. 3) Abélard. C) Iseut. 4) Paul. D) Héloïse.\n",
      "\n",
      "a: 1D - 2A - 3B - 4C\n",
      "b: 1B - 2C - 3A - 4D\n",
      "c: 1B - 2C - 3D - 4A\n",
      "d: 1B - 2D - 3A - 4C\n"
     ]
    },
    {
     "name": "stdin",
     "output_type": "stream",
     "text": [
      "\n",
      "Entrez votre réponse: \n",
      " D\n"
     ]
    },
    {
     "name": "stdout",
     "output_type": "stream",
     "text": [
      "Loupé! Tu perd demi point\n",
      "\n",
      "C'était c la bonne réponse!\n",
      "\n",
      "~~~~~~~~~~~~~~~~~~~~~~~~~~~~~~\n",
      "Par quel mouvement a été inventé le jeu littéraire dit « Cadavre exquis » ?\n",
      "\n",
      "a: Le symbolisme\n",
      "b: L’existentialisme\n",
      "c: Le surréalisme\n",
      "d: L’expressionnisme\n"
     ]
    },
    {
     "name": "stdin",
     "output_type": "stream",
     "text": [
      "\n",
      "Entrez votre réponse: \n",
      " C\n"
     ]
    },
    {
     "name": "stdout",
     "output_type": "stream",
     "text": [
      "Bravo tu as + 1 points\n",
      "********FIN DU QUIZ********\n",
      "\n",
      "Votre score est 4.0/10\n",
      "Attention ! Vous devez revoir vos connaissances dans ce domaine\n",
      "\n",
      "\n",
      "********Petit Menu********\n",
      " 1- Rejouer\n",
      " 2- Retour au Menu Principal\n",
      " 3- Quittez\n"
     ]
    },
    {
     "name": "stdin",
     "output_type": "stream",
     "text": [
      "\n",
      "choisissez une option svp\n",
      " 3\n"
     ]
    },
    {
     "name": "stdout",
     "output_type": "stream",
     "text": [
      "Aurevoir et à bientôt\n"
     ]
    }
   ],
   "source": [
    "print (\" \\n*********************QUIZ********************\\n\")\n",
    "print(\"\\n*********************************************\\nATTENTION!!!! LISEZ ATTENTIVEMENT LES REGLES AVANT DE COMMENCER A JOUER\\n\")\n",
    "menu()"
   ]
  },
  {
   "cell_type": "code",
   "execution_count": null,
   "metadata": {},
   "outputs": [],
   "source": []
  }
 ],
 "metadata": {
  "kernelspec": {
   "display_name": "Python 3 (ipykernel)",
   "language": "python",
   "name": "python3"
  },
  "language_info": {
   "codemirror_mode": {
    "name": "ipython",
    "version": 3
   },
   "file_extension": ".py",
   "mimetype": "text/x-python",
   "name": "python",
   "nbconvert_exporter": "python",
   "pygments_lexer": "ipython3",
   "version": "3.9.7"
  }
 },
 "nbformat": 4,
 "nbformat_minor": 4
}
